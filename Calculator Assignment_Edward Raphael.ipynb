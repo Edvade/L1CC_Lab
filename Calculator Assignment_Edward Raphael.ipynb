{
 "cells": [
  {
   "cell_type": "code",
   "execution_count": null,
   "metadata": {},
   "outputs": [],
   "source": [
    "print(\"Select an Operator\")\n",
    "print(\"+\")\n",
    "print(\"-\")\n",
    "print(\"*\")\n",
    "print(\"/\")\n",
    "print(\"root\")\n",
    "print(\"**\")\n",
    "\n",
    "operator = input(\"Selected Operator\")\n",
    "val1 = float(input(\"Enter first value\"))\n",
    "print(\"First Value :\" + str(val1))\n",
    "val2 = float(input(\"Enter second value\"))\n",
    "print(\"Second Value :\" + str(val2))\n",
    "\n",
    "if operator == \"+\":\n",
    "    result = val1 + val2\n",
    "    print(result)\n",
    "elif operator == \"-\":     \n",
    "    result = val1 - val2\n",
    "    print(result)\n",
    "elif operator == \"*\":     \n",
    "    result = val1 * val2 \n",
    "    print(result)\n",
    "elif operator == \"/\":     \n",
    "    result = val1 / val2\n",
    "    print(result)\n",
    "elif operator == \"**\":     \n",
    "    result = val1 ** val2 \n",
    "    print(result)  \n",
    "elif operator ==\"root\":\n",
    "    result = val1**0.5\n",
    "    print(result)\n",
    "\n",
    "else : \n",
    "    print(\"Invalid values\")    \n",
    "\n"
   ]
  }
 ],
 "metadata": {
  "kernelspec": {
   "display_name": "Python 3",
   "language": "python",
   "name": "python3"
  },
  "language_info": {
   "codemirror_mode": {
    "name": "ipython",
    "version": 3
   },
   "file_extension": ".py",
   "mimetype": "text/x-python",
   "name": "python",
   "nbconvert_exporter": "python",
   "pygments_lexer": "ipython3",
   "version": "3.11.5"
  },
  "orig_nbformat": 4
 },
 "nbformat": 4,
 "nbformat_minor": 2
}
